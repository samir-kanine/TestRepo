{
  "cells": [
    {
      "cell_type": "markdown",
      "metadata": {
        "id": "view-in-github",
        "colab_type": "text"
      },
      "source": [
        "<a href=\"https://colab.research.google.com/github/samir-kanine/TestRepo/blob/main/nb/chap01.ipynb\" target=\"_parent\"><img src=\"https://colab.research.google.com/assets/colab-badge.svg\" alt=\"Open In Colab\"/></a>"
      ]
    },
    {
      "cell_type": "markdown",
      "id": "025b76df",
      "metadata": {
        "id": "025b76df"
      },
      "source": [
        "The third edition of *Think Stats* is not for sale yet, but if you would like to support this project, you can [buy me a coffee](https://buymeacoffee.com/allendowney)."
      ]
    },
    {
      "cell_type": "markdown",
      "id": "85c30bdb",
      "metadata": {
        "id": "85c30bdb"
      },
      "source": [
        "# Exploratory Data Analysis\n",
        "\n",
        "The thesis of this book is we can use data to answer questions, resolve debates, and make better decisions.\n",
        "\n",
        "This chapter introduces the steps we'll use to do that: loading and validating data, exploring, and choosing statistics that measure what you are interested in.\n",
        "As an example, we'll use data from the National Survey of Family Growth (NSFG) to answer a question I heard when my wife and I were expecting our first child: do first babies tend to arrive late?"
      ]
    },
    {
      "cell_type": "markdown",
      "id": "3893fe82",
      "metadata": {
        "tags": [],
        "id": "3893fe82"
      },
      "source": [
        "[Click here to run this notebook on Colab](https://colab.research.google.com/github/AllenDowney/ThinkStats/blob/v3/nb/chap01.ipynb)."
      ]
    },
    {
      "cell_type": "code",
      "source": [
        "!pip install black[jupyter]"
      ],
      "metadata": {
        "colab": {
          "base_uri": "https://localhost:8080/"
        },
        "id": "PgJyfdpg2n0F",
        "outputId": "372d15cb-5b34-44bd-ab13-7d6c43f7d26d"
      },
      "id": "PgJyfdpg2n0F",
      "execution_count": 3,
      "outputs": [
        {
          "output_type": "stream",
          "name": "stdout",
          "text": [
            "Collecting black[jupyter]\n",
            "  Downloading black-24.10.0-cp310-cp310-manylinux_2_17_x86_64.manylinux2014_x86_64.manylinux_2_28_x86_64.whl.metadata (79 kB)\n",
            "\u001b[?25l     \u001b[90m━━━━━━━━━━━━━━━━━━━━━━━━━━━━━━━━━━━━━━━━\u001b[0m \u001b[32m0.0/79.2 kB\u001b[0m \u001b[31m?\u001b[0m eta \u001b[36m-:--:--\u001b[0m\r\u001b[2K     \u001b[90m━━━━━━━━━━━━━━━━━━━━━━━━━━━━━━━━━━━━━━━━\u001b[0m \u001b[32m79.2/79.2 kB\u001b[0m \u001b[31m2.6 MB/s\u001b[0m eta \u001b[36m0:00:00\u001b[0m\n",
            "\u001b[?25hRequirement already satisfied: click>=8.0.0 in /usr/local/lib/python3.10/dist-packages (from black[jupyter]) (8.1.7)\n",
            "Collecting mypy-extensions>=0.4.3 (from black[jupyter])\n",
            "  Downloading mypy_extensions-1.0.0-py3-none-any.whl.metadata (1.1 kB)\n",
            "Requirement already satisfied: packaging>=22.0 in /usr/local/lib/python3.10/dist-packages (from black[jupyter]) (24.2)\n",
            "Collecting pathspec>=0.9.0 (from black[jupyter])\n",
            "  Downloading pathspec-0.12.1-py3-none-any.whl.metadata (21 kB)\n",
            "Requirement already satisfied: platformdirs>=2 in /usr/local/lib/python3.10/dist-packages (from black[jupyter]) (4.3.6)\n",
            "Requirement already satisfied: tomli>=1.1.0 in /usr/local/lib/python3.10/dist-packages (from black[jupyter]) (2.2.1)\n",
            "Requirement already satisfied: typing-extensions>=4.0.1 in /usr/local/lib/python3.10/dist-packages (from black[jupyter]) (4.12.2)\n",
            "Requirement already satisfied: ipython>=7.8.0 in /usr/local/lib/python3.10/dist-packages (from black[jupyter]) (7.34.0)\n",
            "Collecting tokenize-rt>=3.2.0 (from black[jupyter])\n",
            "  Downloading tokenize_rt-6.1.0-py2.py3-none-any.whl.metadata (4.1 kB)\n",
            "Requirement already satisfied: setuptools>=18.5 in /usr/local/lib/python3.10/dist-packages (from ipython>=7.8.0->black[jupyter]) (75.1.0)\n",
            "Collecting jedi>=0.16 (from ipython>=7.8.0->black[jupyter])\n",
            "  Downloading jedi-0.19.2-py2.py3-none-any.whl.metadata (22 kB)\n",
            "Requirement already satisfied: decorator in /usr/local/lib/python3.10/dist-packages (from ipython>=7.8.0->black[jupyter]) (4.4.2)\n",
            "Requirement already satisfied: pickleshare in /usr/local/lib/python3.10/dist-packages (from ipython>=7.8.0->black[jupyter]) (0.7.5)\n",
            "Requirement already satisfied: traitlets>=4.2 in /usr/local/lib/python3.10/dist-packages (from ipython>=7.8.0->black[jupyter]) (5.7.1)\n",
            "Requirement already satisfied: prompt-toolkit!=3.0.0,!=3.0.1,<3.1.0,>=2.0.0 in /usr/local/lib/python3.10/dist-packages (from ipython>=7.8.0->black[jupyter]) (3.0.48)\n",
            "Requirement already satisfied: pygments in /usr/local/lib/python3.10/dist-packages (from ipython>=7.8.0->black[jupyter]) (2.18.0)\n",
            "Requirement already satisfied: backcall in /usr/local/lib/python3.10/dist-packages (from ipython>=7.8.0->black[jupyter]) (0.2.0)\n",
            "Requirement already satisfied: matplotlib-inline in /usr/local/lib/python3.10/dist-packages (from ipython>=7.8.0->black[jupyter]) (0.1.7)\n",
            "Requirement already satisfied: pexpect>4.3 in /usr/local/lib/python3.10/dist-packages (from ipython>=7.8.0->black[jupyter]) (4.9.0)\n",
            "Requirement already satisfied: parso<0.9.0,>=0.8.4 in /usr/local/lib/python3.10/dist-packages (from jedi>=0.16->ipython>=7.8.0->black[jupyter]) (0.8.4)\n",
            "Requirement already satisfied: ptyprocess>=0.5 in /usr/local/lib/python3.10/dist-packages (from pexpect>4.3->ipython>=7.8.0->black[jupyter]) (0.7.0)\n",
            "Requirement already satisfied: wcwidth in /usr/local/lib/python3.10/dist-packages (from prompt-toolkit!=3.0.0,!=3.0.1,<3.1.0,>=2.0.0->ipython>=7.8.0->black[jupyter]) (0.2.13)\n",
            "Downloading mypy_extensions-1.0.0-py3-none-any.whl (4.7 kB)\n",
            "Downloading pathspec-0.12.1-py3-none-any.whl (31 kB)\n",
            "Downloading tokenize_rt-6.1.0-py2.py3-none-any.whl (6.0 kB)\n",
            "Downloading black-24.10.0-cp310-cp310-manylinux_2_17_x86_64.manylinux2014_x86_64.manylinux_2_28_x86_64.whl (1.8 MB)\n",
            "\u001b[2K   \u001b[90m━━━━━━━━━━━━━━━━━━━━━━━━━━━━━━━━━━━━━━━━\u001b[0m \u001b[32m1.8/1.8 MB\u001b[0m \u001b[31m25.9 MB/s\u001b[0m eta \u001b[36m0:00:00\u001b[0m\n",
            "\u001b[?25hDownloading jedi-0.19.2-py2.py3-none-any.whl (1.6 MB)\n",
            "\u001b[2K   \u001b[90m━━━━━━━━━━━━━━━━━━━━━━━━━━━━━━━━━━━━━━━━\u001b[0m \u001b[32m1.6/1.6 MB\u001b[0m \u001b[31m51.1 MB/s\u001b[0m eta \u001b[36m0:00:00\u001b[0m\n",
            "\u001b[?25hInstalling collected packages: tokenize-rt, pathspec, mypy-extensions, jedi, black\n",
            "Successfully installed black-24.10.0 jedi-0.19.2 mypy-extensions-1.0.0 pathspec-0.12.1 tokenize-rt-6.1.0\n"
          ]
        }
      ]
    },
    {
      "cell_type": "code",
      "source": [
        "!pip install jupyter-black"
      ],
      "metadata": {
        "colab": {
          "base_uri": "https://localhost:8080/"
        },
        "id": "DUStucd72uW0",
        "outputId": "96df5096-ba95-4f29-dd60-3a987f128909"
      },
      "id": "DUStucd72uW0",
      "execution_count": 4,
      "outputs": [
        {
          "output_type": "stream",
          "name": "stdout",
          "text": [
            "Collecting jupyter-black\n",
            "  Downloading jupyter_black-0.4.0-py3-none-any.whl.metadata (7.8 kB)\n",
            "Requirement already satisfied: black>=21 in /usr/local/lib/python3.10/dist-packages (from black[jupyter]>=21->jupyter-black) (24.10.0)\n",
            "Requirement already satisfied: click>=8.0.0 in /usr/local/lib/python3.10/dist-packages (from black>=21->black[jupyter]>=21->jupyter-black) (8.1.7)\n",
            "Requirement already satisfied: mypy-extensions>=0.4.3 in /usr/local/lib/python3.10/dist-packages (from black>=21->black[jupyter]>=21->jupyter-black) (1.0.0)\n",
            "Requirement already satisfied: packaging>=22.0 in /usr/local/lib/python3.10/dist-packages (from black>=21->black[jupyter]>=21->jupyter-black) (24.2)\n",
            "Requirement already satisfied: pathspec>=0.9.0 in /usr/local/lib/python3.10/dist-packages (from black>=21->black[jupyter]>=21->jupyter-black) (0.12.1)\n",
            "Requirement already satisfied: platformdirs>=2 in /usr/local/lib/python3.10/dist-packages (from black>=21->black[jupyter]>=21->jupyter-black) (4.3.6)\n",
            "Requirement already satisfied: tomli>=1.1.0 in /usr/local/lib/python3.10/dist-packages (from black>=21->black[jupyter]>=21->jupyter-black) (2.2.1)\n",
            "Requirement already satisfied: typing-extensions>=4.0.1 in /usr/local/lib/python3.10/dist-packages (from black>=21->black[jupyter]>=21->jupyter-black) (4.12.2)\n",
            "Requirement already satisfied: ipython>=7.8.0 in /usr/local/lib/python3.10/dist-packages (from black[jupyter]>=21->jupyter-black) (7.34.0)\n",
            "Requirement already satisfied: tokenize-rt>=3.2.0 in /usr/local/lib/python3.10/dist-packages (from black[jupyter]>=21->jupyter-black) (6.1.0)\n",
            "Requirement already satisfied: setuptools>=18.5 in /usr/local/lib/python3.10/dist-packages (from ipython>=7.8.0->black[jupyter]>=21->jupyter-black) (75.1.0)\n",
            "Requirement already satisfied: jedi>=0.16 in /usr/local/lib/python3.10/dist-packages (from ipython>=7.8.0->black[jupyter]>=21->jupyter-black) (0.19.2)\n",
            "Requirement already satisfied: decorator in /usr/local/lib/python3.10/dist-packages (from ipython>=7.8.0->black[jupyter]>=21->jupyter-black) (4.4.2)\n",
            "Requirement already satisfied: pickleshare in /usr/local/lib/python3.10/dist-packages (from ipython>=7.8.0->black[jupyter]>=21->jupyter-black) (0.7.5)\n",
            "Requirement already satisfied: traitlets>=4.2 in /usr/local/lib/python3.10/dist-packages (from ipython>=7.8.0->black[jupyter]>=21->jupyter-black) (5.7.1)\n",
            "Requirement already satisfied: prompt-toolkit!=3.0.0,!=3.0.1,<3.1.0,>=2.0.0 in /usr/local/lib/python3.10/dist-packages (from ipython>=7.8.0->black[jupyter]>=21->jupyter-black) (3.0.48)\n",
            "Requirement already satisfied: pygments in /usr/local/lib/python3.10/dist-packages (from ipython>=7.8.0->black[jupyter]>=21->jupyter-black) (2.18.0)\n",
            "Requirement already satisfied: backcall in /usr/local/lib/python3.10/dist-packages (from ipython>=7.8.0->black[jupyter]>=21->jupyter-black) (0.2.0)\n",
            "Requirement already satisfied: matplotlib-inline in /usr/local/lib/python3.10/dist-packages (from ipython>=7.8.0->black[jupyter]>=21->jupyter-black) (0.1.7)\n",
            "Requirement already satisfied: pexpect>4.3 in /usr/local/lib/python3.10/dist-packages (from ipython>=7.8.0->black[jupyter]>=21->jupyter-black) (4.9.0)\n",
            "Requirement already satisfied: parso<0.9.0,>=0.8.4 in /usr/local/lib/python3.10/dist-packages (from jedi>=0.16->ipython>=7.8.0->black[jupyter]>=21->jupyter-black) (0.8.4)\n",
            "Requirement already satisfied: ptyprocess>=0.5 in /usr/local/lib/python3.10/dist-packages (from pexpect>4.3->ipython>=7.8.0->black[jupyter]>=21->jupyter-black) (0.7.0)\n",
            "Requirement already satisfied: wcwidth in /usr/local/lib/python3.10/dist-packages (from prompt-toolkit!=3.0.0,!=3.0.1,<3.1.0,>=2.0.0->ipython>=7.8.0->black[jupyter]>=21->jupyter-black) (0.2.13)\n",
            "Downloading jupyter_black-0.4.0-py3-none-any.whl (7.6 kB)\n",
            "Installing collected packages: jupyter-black\n",
            "Successfully installed jupyter-black-0.4.0\n"
          ]
        }
      ]
    },
    {
      "cell_type": "code",
      "source": [
        "!pip install nb_black"
      ],
      "metadata": {
        "colab": {
          "base_uri": "https://localhost:8080/"
        },
        "id": "lEZ9oMWD1o1Q",
        "outputId": "012c2a0b-7538-4baf-badf-2dfc3dd75a34"
      },
      "id": "lEZ9oMWD1o1Q",
      "execution_count": 2,
      "outputs": [
        {
          "output_type": "stream",
          "name": "stdout",
          "text": [
            "Collecting nb_black\n",
            "  Downloading nb_black-1.0.7.tar.gz (4.8 kB)\n",
            "  \u001b[1;31merror\u001b[0m: \u001b[1msubprocess-exited-with-error\u001b[0m\n",
            "  \n",
            "  \u001b[31m×\u001b[0m \u001b[32mpython setup.py egg_info\u001b[0m did not run successfully.\n",
            "  \u001b[31m│\u001b[0m exit code: \u001b[1;36m1\u001b[0m\n",
            "  \u001b[31m╰─>\u001b[0m See above for output.\n",
            "  \n",
            "  \u001b[1;35mnote\u001b[0m: This error originates from a subprocess, and is likely not a problem with pip.\n",
            "  Preparing metadata (setup.py) ... \u001b[?25l\u001b[?25herror\n",
            "\u001b[1;31merror\u001b[0m: \u001b[1mmetadata-generation-failed\u001b[0m\n",
            "\n",
            "\u001b[31m×\u001b[0m Encountered error while generating package metadata.\n",
            "\u001b[31m╰─>\u001b[0m See above for output.\n",
            "\n",
            "\u001b[1;35mnote\u001b[0m: This is an issue with the package mentioned above, not pip.\n",
            "\u001b[1;36mhint\u001b[0m: See above for details.\n"
          ]
        }
      ]
    },
    {
      "cell_type": "code",
      "execution_count": 5,
      "id": "3bb1c675",
      "metadata": {
        "tags": [],
        "id": "3bb1c675"
      },
      "outputs": [],
      "source": [
        "# %load_ext nb_black\n",
        "%load_ext jupyter_black\n",
        "%load_ext autoreload\n",
        "%autoreload"
      ]
    },
    {
      "cell_type": "code",
      "execution_count": 6,
      "id": "02d400cf",
      "metadata": {
        "tags": [],
        "colab": {
          "base_uri": "https://localhost:8080/"
        },
        "id": "02d400cf",
        "outputId": "c792ffb9-0f3e-47b1-8605-b065be916e30"
      },
      "outputs": [
        {
          "output_type": "stream",
          "name": "stdout",
          "text": [
            "Downloaded thinkstats.py\n"
          ]
        }
      ],
      "source": [
        "# basename: Extracts the base name (the file name) from a file path or URL.\n",
        "# Example: basename(\"https://example.com/file.txt\") returns \"file.txt\".\n",
        "# exists: Checks if a file or directory exists in the file system.\n",
        "from os.path import basename, exists\n",
        "\n",
        "''' Definition of 'download' function' whose purpose is to download\n",
        "    a file from the parameter url'''\n",
        "def download(url):\n",
        "    filename = basename(url)\n",
        "    if not exists(filename):\n",
        "        # urllib.request: A Python module for opening and reading URLs.\n",
        "        # urlretrieve: A function that downloads a file from a given URL\n",
        "        # and saves it locally.\n",
        "        from urllib.request import urlretrieve\n",
        "\n",
        "        ''' Function urlretrieve: Downloads the file from the specified\n",
        "        url and saves it locally with the name specified by filename.\n",
        "        Returns a tuple: (local_file_path, response_headers)'''\n",
        "        local, _ = urlretrieve(url, filename)  # local: Stores the local file\n",
        "        # path of the downloaded file. _: Discards the second return value\n",
        "        # (response headers), as it's not used in this code.\n",
        "        print(\"Downloaded \" + local)\n",
        "\n",
        "\n",
        "download(\"https://github.com/AllenDowney/ThinkStats/raw/v3/nb/thinkstats.py\")"
      ]
    },
    {
      "cell_type": "code",
      "execution_count": 7,
      "id": "553c681e",
      "metadata": {
        "tags": [],
        "colab": {
          "base_uri": "https://localhost:8080/"
        },
        "id": "553c681e",
        "outputId": "087d64ef-051f-47b4-fab2-d51f05a25a69"
      },
      "outputs": [
        {
          "output_type": "stream",
          "name": "stdout",
          "text": [
            "Collecting empiricaldist\n",
            "  Downloading empiricaldist-0.7.5.tar.gz (12 kB)\n",
            "  Installing build dependencies ... \u001b[?25l\u001b[?25hdone\n",
            "  Getting requirements to build wheel ... \u001b[?25l\u001b[?25hdone\n",
            "  Preparing metadata (pyproject.toml) ... \u001b[?25l\u001b[?25hdone\n",
            "Building wheels for collected packages: empiricaldist\n",
            "  Building wheel for empiricaldist (pyproject.toml) ... \u001b[?25l\u001b[?25hdone\n",
            "  Created wheel for empiricaldist: filename=empiricaldist-0.7.5-py3-none-any.whl size=12468 sha256=52384213d4696af90046dc8fc935cd4b0f200e0b2b4d92edf993c84f69d4d752\n",
            "  Stored in directory: /root/.cache/pip/wheels/0d/d0/ae/1ad4c7593703e55b2321b23b49d3b0d55261b59d7036d7045b\n",
            "Successfully built empiricaldist\n",
            "Installing collected packages: empiricaldist\n",
            "Successfully installed empiricaldist-0.7.5\n"
          ]
        }
      ],
      "source": [
        "try:\n",
        "    '''empiricaldist: Library that provides tools for working with probability\n",
        "    distributions, including Pmf (probability mass function) and Cdf\n",
        "    (cumulative distribution function).'''\n",
        "    import empiricaldist\n",
        "except ImportError:\n",
        "    !pip install empiricaldist"
      ]
    },
    {
      "cell_type": "code",
      "execution_count": 8,
      "id": "1a3119be",
      "metadata": {
        "tags": [],
        "id": "1a3119be"
      },
      "outputs": [],
      "source": [
        "import numpy as np\n",
        "import pandas as pd\n",
        "import matplotlib.pyplot as plt\n",
        "\n",
        "from IPython.display import HTML\n",
        "from thinkstats import decorate  # decorate: a helper function for improving plots, typically created with libraries like Matplotlib."
      ]
    },
    {
      "cell_type": "markdown",
      "id": "9ebc865a",
      "metadata": {
        "id": "9ebc865a"
      },
      "source": [
        "## Evidence\n",
        "\n",
        "You might have heard that first babies are more likely to be late.\n",
        "If you search the web with this question, you will find plenty of discussion.\n",
        "Some people claim it's true, others say it's a myth, and some people say it's the other way around: first babies come early.\n",
        "\n",
        "In many of these discussions, people provide data to support their claims.\n",
        "I found many examples like these:\n",
        "\n",
        "> \"My two friends that have given birth recently to their first babies, BOTH went almost 2 weeks overdue before going into labour or being induced.\"\n",
        "\n",
        "> \"My first one came 2 weeks late and now I think the second one is going to come out two weeks early!!\"\n",
        "\n",
        "> \"I don't think that can be true because my sister was my mother's first and she was early, as with many of my cousins.\""
      ]
    },
    {
      "cell_type": "markdown",
      "id": "69f30de7",
      "metadata": {
        "id": "69f30de7"
      },
      "source": [
        "Reports like these are called **anecdotal evidence** because they are based on data that is unpublished and usually personal.\n",
        "In casual conversation, there is nothing wrong with anecdotes, so I don't mean to pick on the people I quoted.\n",
        "\n",
        "But we might want evidence that is more persuasive and an answer that is more reliable.\n",
        "By those standards, anecdotal evidence usually fails, because:\n",
        "\n",
        "-   Small number of observations: If pregnancy length is longer for first babies, the difference is probably small compared to natural variation. In that case, we might have to compare a large number of pregnancies to know whether there is a difference.\n",
        "\n",
        "-   Selection bias: People who join a discussion of this question might be interested because their first babies were late. In that case the process of selecting data would bias the results.\n",
        "\n",
        "-   Confirmation bias: People who believe the claim might be more likely to contribute examples that confirm it. People who doubt the claim are more likely to cite counterexamples.\n",
        "\n",
        "-   Inaccuracy: Anecdotes are often personal stories, and might be misremembered, misrepresented, repeated inaccurately, etc."
      ]
    },
    {
      "cell_type": "markdown",
      "id": "136480d4",
      "metadata": {
        "id": "136480d4"
      },
      "source": [
        "To address the limitations of anecdotes, we will use the tools of statistics, which include:\n",
        "\n",
        "-   Data collection: We will use data from a large national survey that was designed explicitly with the goal of generating statistically valid inferences about the U.S. population.\n",
        "\n",
        "-   Descriptive statistics: We will generate statistics that summarize the data concisely, and evaluate different ways to visualize data.\n",
        "\n",
        "-   Exploratory data analysis: We will look for patterns, differences, and other features that address the questions we are interested in. At the same time we will check for inconsistencies and identify limitations.\n",
        "\n",
        "-   Estimation: We will use data from a sample to estimate characteristics of the general population.\n",
        "\n",
        "-   Hypothesis testing: Where we see apparent effects, like a difference between two groups, we will evaluate whether the effect might have happened by chance.\n",
        "\n",
        "By performing these steps with care to avoid pitfalls, we can reach conclusions that are more justified and more likely to be correct."
      ]
    },
    {
      "cell_type": "markdown",
      "id": "881d8023",
      "metadata": {
        "id": "881d8023"
      },
      "source": [
        "## The National Survey of Family Growth\n",
        "\n",
        "Since 1973 the U.S. Centers for Disease Control and Prevention (CDC) have conducted the National Survey of Family Growth (NSFG), which is intended to gather \"information on family life, marriage and divorce, pregnancy, infertility, use of contraception, and men's and women's health. The survey results are used...to plan health services and health education programs, and to do statistical studies of families, fertility, and health.\""
      ]
    },
    {
      "cell_type": "markdown",
      "id": "f6e9bf62",
      "metadata": {
        "tags": [],
        "id": "f6e9bf62"
      },
      "source": [
        "You can read more about the NSFG at <http://cdc.gov/nchs/nsfg.htm>."
      ]
    },
    {
      "cell_type": "markdown",
      "id": "41d329e0",
      "metadata": {
        "id": "41d329e0"
      },
      "source": [
        "We will use data collected by this survey to investigate whether first babies tend to come late, and other questions.\n",
        "In order to use this data effectively, we have to understand the design of the study.\n",
        "\n",
        "The NSFG is a **cross-sectional** study, which means that it captures a snapshot of a group at a point in time.\n",
        "The most common alternative is a **longitudinal** study, which observes a group repeatedly over time.\n",
        "\n",
        "The NSFG has been conducted several times now; each deployment is called a **cycle**.\n",
        "We will use data from Cycle 6, which was conducted from January 2002 to March 2003."
      ]
    },
    {
      "cell_type": "markdown",
      "id": "c1c2f467",
      "metadata": {
        "id": "c1c2f467"
      },
      "source": [
        "The goal of the survey is to draw conclusions about a **population**; the target population of the NSFG is people in the United States aged 15-44.\n",
        "Ideally surveys would collect data from every member of the population, but that's seldom possible.\n",
        "Instead we collect data from a subset of the population called a **sample**.\n",
        "The people who participate in a survey are called **respondents**.\n",
        "\n",
        "In general, cross-sectional studies are meant to be **representative**, which means that every member of the target population has an equal chance of participating.\n",
        "That ideal is hard to achieve in practice, but people who conduct surveys come as close as they can."
      ]
    },
    {
      "cell_type": "markdown",
      "id": "11a17e85",
      "metadata": {
        "id": "11a17e85"
      },
      "source": [
        "The NSFG is not representative; instead it is deliberately **oversampled**.\n",
        "The designers of the study recruited three groups -- Hispanics, African-Americans and teenagers -- at rates higher than their representation in the U.S. population, in order to make sure that the number of respondents in each of these groups is large enough to draw valid statistical inferences.\n",
        "\n",
        "The drawback of oversampling is that it is not as easy to draw conclusions about the general population based on statistics from the survey.\n",
        "We will come back to this point later.\n",
        "\n",
        "When working with this kind of data, it is important to be familiar with the **codebook**, which documents the design of the study, the survey questions, and the encoding of the responses."
      ]
    },
    {
      "cell_type": "markdown",
      "id": "5908f497",
      "metadata": {
        "tags": [],
        "id": "5908f497"
      },
      "source": [
        "The codebook and user's guide for the NSFG data are available from <http://www.cdc.gov/nchs/nsfg/nsfg_cycle6.htm>"
      ]
    },
    {
      "cell_type": "markdown",
      "id": "da1298b1",
      "metadata": {
        "id": "da1298b1"
      },
      "source": [
        "## Reading the Data\n",
        "\n",
        "Before downloading NSFG data, you have to agree to the terms of use:\n",
        "\n",
        "> Any intentional identification or disclosure of an individual or establishment violates the assurances of confidentiality given to the providers of the information. Therefore, users will:\n",
        ">\n",
        "> * Use the data in this dataset for statistical reporting and analysis only.\n",
        ">\n",
        "> * Make no attempt to learn the identity of any person or establishment included in these data.\n",
        ">\n",
        "> * Not link this dataset with individually identifiable data from other NCHS or non-NCHS datasets.\n",
        ">\n",
        "> * Not engage in any efforts to assess disclosure methodologies applied to protect individuals and establishments or any research on methods of re-identification of individuals and establishments.\n",
        "\n",
        "If you agree to comply with these terms, instructions for downloading the data are in the notebook for this chapter."
      ]
    },
    {
      "cell_type": "markdown",
      "id": "254dde94",
      "metadata": {
        "tags": [],
        "id": "254dde94"
      },
      "source": [
        "The data files are available directly from the NSFG web site at <https://www.cdc.gov/nchs/data_access/ftp_dua.htm?url_redirect=ftp://ftp.cdc.gov/pub/Health_Statistics/NCHS/Datasets/NSFG>, but we will download them from the repository for this book, which provides a compressed version of the data file.\n",
        "\n",
        "The following cells download the data files and install `statadict`, which we need to read the data."
      ]
    },
    {
      "cell_type": "code",
      "execution_count": 13,
      "id": "6ee58aea",
      "metadata": {
        "tags": [],
        "id": "6ee58aea"
      },
      "outputs": [],
      "source": [
        "download(\"https://github.com/AllenDowney/ThinkStats/raw/v3/data/2002FemPreg.dct\")\n",
        "download(\"https://github.com/AllenDowney/ThinkStats/raw/v3/data/2002FemPreg.dat.gz\")"
      ]
    },
    {
      "cell_type": "code",
      "execution_count": 14,
      "id": "35e4ffdf",
      "metadata": {
        "tags": [],
        "id": "35e4ffdf"
      },
      "outputs": [],
      "source": [
        "try:\n",
        "    import statadict\n",
        "except ImportError:\n",
        "    !pip install statadict"
      ]
    },
    {
      "cell_type": "markdown",
      "id": "4cafe831",
      "metadata": {
        "id": "4cafe831"
      },
      "source": [
        "The data is stored in two files, a \"dictionary\" that describes the format of the data, and a data file."
      ]
    },
    {
      "cell_type": "code",
      "execution_count": 15,
      "id": "832bd754",
      "metadata": {
        "id": "832bd754"
      },
      "outputs": [],
      "source": [
        "dct_file = \"2002FemPreg.dct\"\n",
        "dat_file = \"2002FemPreg.dat.gz\""
      ]
    },
    {
      "cell_type": "markdown",
      "id": "714a5a3f",
      "metadata": {
        "id": "714a5a3f"
      },
      "source": [
        "The notebook for this chapter defines a function that reads these files.\n",
        "It is called `read_stata` because this data format is compatible with a statistical software package called Stata."
      ]
    },
    {
      "cell_type": "markdown",
      "id": "0bd8b49f",
      "metadata": {
        "tags": [],
        "id": "0bd8b49f"
      },
      "source": [
        "The following function takes these file names as arguments, reads the dictionary, and uses the results to read the data file."
      ]
    },
    {
      "cell_type": "code",
      "execution_count": 16,
      "id": "3630009d",
      "metadata": {
        "tags": [],
        "id": "3630009d"
      },
      "outputs": [],
      "source": [
        "from statadict import parse_stata_dict\n",
        "\n",
        "\n",
        "def read_stata(dct_file, dat_file):\n",
        "    stata_dict = parse_stata_dict(dct_file)\n",
        "    resp = pd.read_fwf(\n",
        "        dat_file,\n",
        "        names=stata_dict.names,\n",
        "        colspecs=stata_dict.colspecs,\n",
        "        compression=\"gzip\",\n",
        "    )\n",
        "    return resp"
      ]
    },
    {
      "cell_type": "markdown",
      "id": "f3d9ee03",
      "metadata": {
        "id": "f3d9ee03"
      },
      "source": [
        "Here's how we use it."
      ]
    },
    {
      "cell_type": "code",
      "execution_count": null,
      "id": "8444ee78",
      "metadata": {
        "id": "8444ee78"
      },
      "outputs": [],
      "source": [
        "preg = read_stata(dct_file, dat_file)"
      ]
    },
    {
      "cell_type": "markdown",
      "id": "8f164c4b",
      "metadata": {
        "id": "8f164c4b"
      },
      "source": [
        "The result is a `DataFrame`, which is a Pandas data structure that represents tabular data in rows and columns.\n",
        "This `DataFrame` contains a row for each record -- in this case one row per pregnancy -- and a column for each variable.\n",
        "In addition to the data, a `DataFrame` also contains the variable names and their types, and it provides methods for accessing and modifying the data.\n",
        "\n",
        "The `DataFrame` has an attribute called `shape` that contains the number of rows and columns."
      ]
    },
    {
      "cell_type": "code",
      "execution_count": null,
      "id": "87e0bfbc",
      "metadata": {
        "id": "87e0bfbc"
      },
      "outputs": [],
      "source": [
        "preg.shape"
      ]
    },
    {
      "cell_type": "markdown",
      "id": "7b6a1a58",
      "metadata": {
        "id": "7b6a1a58"
      },
      "source": [
        "And it has a method called `head` that displays the first few rows."
      ]
    },
    {
      "cell_type": "code",
      "execution_count": null,
      "id": "9c1cb8f2",
      "metadata": {
        "id": "9c1cb8f2"
      },
      "outputs": [],
      "source": [
        "preg.head()"
      ]
    },
    {
      "cell_type": "markdown",
      "id": "dc660341",
      "metadata": {
        "id": "dc660341"
      },
      "source": [
        "The first column is the index of the `DataFrame`, which contains a label for each row.\n",
        "In this case, the labels are integers starting from 0, but they can also be strings and other types.\n",
        "\n",
        "The `DataFrame` has an attribute called `columns` that contains the names of the columns."
      ]
    },
    {
      "cell_type": "code",
      "execution_count": null,
      "id": "4f59f46d",
      "metadata": {
        "scrolled": true,
        "id": "4f59f46d"
      },
      "outputs": [],
      "source": [
        "preg.columns"
      ]
    },
    {
      "cell_type": "markdown",
      "id": "e82ef6e6",
      "metadata": {
        "id": "e82ef6e6"
      },
      "source": [
        "The column names are contained in an `Index` object, which is another Pandas data structure.\n",
        "To access a column from a `DataFrame`, you can use the column name as a key."
      ]
    },
    {
      "cell_type": "code",
      "execution_count": null,
      "id": "e7dbfce1",
      "metadata": {
        "id": "e7dbfce1"
      },
      "outputs": [],
      "source": [
        "pregordr = preg[\"pregordr\"]\n",
        "type(pregordr)"
      ]
    },
    {
      "cell_type": "markdown",
      "id": "aad9af2d",
      "metadata": {
        "id": "aad9af2d"
      },
      "source": [
        "The result is a Pandas `Series`, which represents a sequence of values.\n",
        "`Series` also provides `head`, which displays the first few values and their labels."
      ]
    },
    {
      "cell_type": "code",
      "execution_count": null,
      "id": "189b4869",
      "metadata": {
        "id": "189b4869"
      },
      "outputs": [],
      "source": [
        "pregordr.head()"
      ]
    },
    {
      "cell_type": "markdown",
      "id": "1862cdfe",
      "metadata": {
        "id": "1862cdfe"
      },
      "source": [
        "The last line includes the name of the `Series` and `dtype`, which is the type of the values.\n",
        "In this example, `int64` indicates that the values are 64-bit integers.\n",
        "\n",
        "The NSFG dataset contains 243 variables in total.\n",
        "Here are some of the ones we'll use for the explorations in this book.\n",
        "\n",
        "-   `caseid` is the integer ID of the respondent.\n",
        "\n",
        "-   `pregordr` is a pregnancy serial number; for example, the code for a respondent's first pregnancy is 1, for the second pregnancy is 2, and so on.\n",
        "\n",
        "-   `prglngth` is the integer duration of the pregnancy in weeks.\n",
        "\n",
        "-   `outcome` is an integer code for the outcome of the pregnancy. The code 1 indicates a live birth.\n",
        "\n",
        "-   `birthord` is a serial number for live births; the code for a respondent's first child is 1, and so on. For outcomes other than live birth, this field is blank.\n",
        "\n",
        "-   `birthwgt_lb` and `birthwgt_oz` contain the pounds and ounces parts of the birth weight of the baby.\n",
        "\n",
        "-   `agepreg` is the mother's age at the end of the pregnancy.\n",
        "\n",
        "-   `finalwgt` is the statistical weight associated with the respondent. It is a floating-point value that indicates the number of people in the U.S. population this respondent represents."
      ]
    },
    {
      "cell_type": "markdown",
      "id": "37c86aa9",
      "metadata": {
        "id": "37c86aa9"
      },
      "source": [
        "If you read the codebook carefully, you will see that many of the variables are **recodes**, which means that they are not part of the **raw data** collected by the survey -- they are calculated using the raw data.\n",
        "\n",
        "For example, `prglngth` for live births is equal to the raw variable `wksgest` (weeks of gestation) if it is available; otherwise it is estimated using `mosgest * 4.33` (months of gestation times the average number of weeks in a month).\n",
        "\n",
        "Recodes are often based on logic that checks the consistency and accuracy of the data.\n",
        "In general it is a good idea to use recodes when they are available, unless there is a compelling reason to process the raw data yourself."
      ]
    },
    {
      "cell_type": "markdown",
      "id": "ca667a83",
      "metadata": {
        "id": "ca667a83"
      },
      "source": [
        "## Validation\n",
        "\n",
        "When data is exported from one software environment and imported into another, errors might be introduced.\n",
        "And when you are getting familiar with a new dataset, you might interpret data incorrectly or introduce other misunderstandings.\n",
        "If you take time to validate the data, you can save time later and avoid errors.\n",
        "\n",
        "One way to validate data is to compute basic statistics and compare them with published results.\n",
        "For example, the NSFG codebook includes tables that summarize each variable.\n",
        "Here is the table for `outcome`, which encodes the outcome of each pregnancy."
      ]
    },
    {
      "cell_type": "code",
      "execution_count": null,
      "id": "f65302bc",
      "metadata": {
        "tags": [],
        "id": "f65302bc"
      },
      "outputs": [],
      "source": [
        "def show_table(d):\n",
        "    df = pd.DataFrame(d)\n",
        "    return HTML(df.to_html(index=False))"
      ]
    },
    {
      "cell_type": "code",
      "execution_count": null,
      "id": "3b2e14f8",
      "metadata": {
        "tags": [],
        "id": "3b2e14f8"
      },
      "outputs": [],
      "source": [
        "d = {\n",
        "    \"Value\": [1, 2, 3, 4, 5, 6, \"Total\"],\n",
        "    \"Label\": [\n",
        "        \"LIVE BIRTH\",\n",
        "        \"INDUCED ABORTION\",\n",
        "        \"STILLBIRTH\",\n",
        "        \"MISCARRIAGE\",\n",
        "        \"ECTOPIC PREGNANCY\",\n",
        "        \"CURRENT PREGNANCY\",\n",
        "        \"\",\n",
        "    ],\n",
        "    \"Total\": [9148, 1862, 120, 1921, 190, 352, 13593],\n",
        "}\n",
        "\n",
        "show_table(d)"
      ]
    },
    {
      "cell_type": "markdown",
      "id": "cb9d01a0",
      "metadata": {
        "id": "cb9d01a0"
      },
      "source": [
        "The \"Total\" column indicates the number of pregnancies with each outcome.\n",
        "To check these totals, we'll use the `value_counts` method, which counts the number of times each value appears, and `sort_index`, which sorts the results according to the values in the `Index` (the left column)."
      ]
    },
    {
      "cell_type": "code",
      "execution_count": null,
      "id": "61fc2a3d",
      "metadata": {
        "id": "61fc2a3d"
      },
      "outputs": [],
      "source": [
        "preg[\"outcome\"].value_counts().sort_index()"
      ]
    },
    {
      "cell_type": "markdown",
      "id": "d57f49ea",
      "metadata": {
        "id": "d57f49ea"
      },
      "source": [
        "Comparing the results with the published table, we can confirm that the values in `outcome` are correct.\n",
        "Similarly, here is the published table for `birthwgt_lb`."
      ]
    },
    {
      "cell_type": "code",
      "execution_count": null,
      "id": "e6986496",
      "metadata": {
        "tags": [],
        "id": "e6986496"
      },
      "outputs": [],
      "source": [
        "d = {\n",
        "    \"Value\": [\".\", \"0-5\", \"6\", \"7\", \"8\", \"9-95\", \"97\", \"98\", \"99\", \"Total\"],\n",
        "    \"Label\": [\n",
        "        \"inapplicable\",\n",
        "        \"UNDER 6 POUNDS\",\n",
        "        \"6 POUNDS\",\n",
        "        \"7 POUNDS\",\n",
        "        \"8 POUNDS\",\n",
        "        \"9 POUNDS OR MORE\",\n",
        "        \"Not ascertained\",\n",
        "        \"REFUSED\",\n",
        "        \"DON'T KNOW\",\n",
        "        \"\",\n",
        "    ],\n",
        "    \"Total\": [4449, 1125, 2223, 3049, 1889, 799, 1, 1, 57, 13593],\n",
        "}\n",
        "\n",
        "show_table(d)"
      ]
    },
    {
      "cell_type": "markdown",
      "id": "afccd71b",
      "metadata": {
        "id": "afccd71b"
      },
      "source": [
        "Birth weight is only recorded for pregnancies that ended in a live birth.\n",
        "The table indicates that there are 4449 cases where this variable is inapplicable.\n",
        "In addition, there is one case where the question was not asked, one where the respondent did not answer, and 57 cases where they did not know.\n",
        "\n",
        "Again, we can use `value_counts` to compare the counts in the dataset to the counts in the codebook."
      ]
    },
    {
      "cell_type": "code",
      "execution_count": null,
      "id": "c2cdb474",
      "metadata": {
        "id": "c2cdb474"
      },
      "outputs": [],
      "source": [
        "counts = preg[\"birthwgt_lb\"].value_counts(dropna=False).sort_index()\n",
        "counts"
      ]
    },
    {
      "cell_type": "markdown",
      "id": "33f9b877",
      "metadata": {
        "id": "33f9b877"
      },
      "source": [
        "The argument `dropna=False` means that `value_counts` does not ignore values that are \"NA\" or \"Not applicable\".\n",
        "These values appear in the results as `NaN`, which stands for \"Not a number\" -- and the count of these values is consistent with the count of inapplicable cases in the codebook.\n",
        "\n",
        "The counts for 6, 7, and 8 pounds are consistent with the codebook.\n",
        "To check the counts for the weight range from 0 to 5 pounds, we can use an attribute called `loc` -- which is short for \"location\" -- and a slice index to select a subset of the counts."
      ]
    },
    {
      "cell_type": "code",
      "execution_count": null,
      "id": "85b8604f",
      "metadata": {
        "id": "85b8604f"
      },
      "outputs": [],
      "source": [
        "counts.loc[0:5]"
      ]
    },
    {
      "cell_type": "markdown",
      "id": "8e166a5c",
      "metadata": {
        "id": "8e166a5c"
      },
      "source": [
        "And we can use the `sum` method to add them up."
      ]
    },
    {
      "cell_type": "code",
      "execution_count": null,
      "id": "2f4f1679",
      "metadata": {
        "id": "2f4f1679"
      },
      "outputs": [],
      "source": [
        "counts.loc[0:5].sum()"
      ]
    },
    {
      "cell_type": "markdown",
      "id": "c8f9a1b8",
      "metadata": {
        "id": "c8f9a1b8"
      },
      "source": [
        "The total is consistent with the codebook.\n",
        "\n",
        "The values 97, 98, and 99 represent cases where the birth weight is unknown.\n",
        "There are several ways we might handle missing data.\n",
        "A simple option is to replace these values with `NaN`.\n",
        "At the same time, we will also replace a value that is clearly wrong, 51 pounds.\n",
        "\n",
        "We can use the replace method like this:"
      ]
    },
    {
      "cell_type": "code",
      "execution_count": null,
      "id": "412f5cc5",
      "metadata": {
        "id": "412f5cc5"
      },
      "outputs": [],
      "source": [
        "preg[\"birthwgt_lb\"] = preg[\"birthwgt_lb\"].replace([51, 97, 98, 99], np.nan)"
      ]
    },
    {
      "cell_type": "markdown",
      "id": "cab151e6",
      "metadata": {
        "id": "cab151e6"
      },
      "source": [
        "The first argument is a list of values to be replaced.\n",
        "The second argument, `np.nan`, gets the `NaN` value from NumPy.\n",
        "\n",
        "When you read data like this, you often have to check for errors and deal with special values.\n",
        "Operations like this are called **data cleaning**."
      ]
    },
    {
      "cell_type": "markdown",
      "id": "1001b3f1",
      "metadata": {
        "id": "1001b3f1"
      },
      "source": [
        "## Transformation\n",
        "\n",
        "As another kind of data cleaning, sometimes we have to convert data into different formats, and perform other calculations.\n",
        "\n",
        "For example, `agepreg` contains the mother's age at the end of the pregnancy.\n",
        "According to the codebook, it is an integer number of centiyears (hundredths of a year), as we can tell if we use the `mean` method to compute its average."
      ]
    },
    {
      "cell_type": "code",
      "execution_count": null,
      "id": "4075d0fd",
      "metadata": {
        "id": "4075d0fd"
      },
      "outputs": [],
      "source": [
        "preg[\"agepreg\"].mean()"
      ]
    },
    {
      "cell_type": "markdown",
      "id": "a668ab41",
      "metadata": {
        "id": "a668ab41"
      },
      "source": [
        "To convert it to years, we can divide through by 100."
      ]
    },
    {
      "cell_type": "code",
      "execution_count": null,
      "id": "feef9b14",
      "metadata": {
        "id": "feef9b14"
      },
      "outputs": [],
      "source": [
        "preg[\"agepreg\"] /= 100.0\n",
        "preg[\"agepreg\"].mean()"
      ]
    },
    {
      "cell_type": "markdown",
      "id": "30376097",
      "metadata": {
        "id": "30376097"
      },
      "source": [
        "Now the average is more credible.\n",
        "\n",
        "As another example, `birthwgt_lb` and `birthwgt_oz` contain birth weights with the pounds and ounces in separate columns.\n",
        "It will be more convenient to combine them into as single column that contains weights in pounds and fractions of a pound.\n",
        "\n",
        "First we'll clean `birthwgt_oz` as we did with `birthwgt_lb`."
      ]
    },
    {
      "cell_type": "code",
      "execution_count": null,
      "id": "ef400303",
      "metadata": {
        "tags": [],
        "id": "ef400303"
      },
      "outputs": [],
      "source": [
        "preg[\"birthwgt_oz\"].value_counts(dropna=False).sort_index()"
      ]
    },
    {
      "cell_type": "code",
      "execution_count": null,
      "id": "edfb3ad0",
      "metadata": {
        "id": "edfb3ad0"
      },
      "outputs": [],
      "source": [
        "preg[\"birthwgt_oz\"] = preg[\"birthwgt_oz\"].replace([97, 98, 99], np.nan)"
      ]
    },
    {
      "cell_type": "markdown",
      "id": "330e50a4",
      "metadata": {
        "id": "330e50a4"
      },
      "source": [
        "Now we can use the cleaned values to create a new column that combines pounds and ounces into a single quantity."
      ]
    },
    {
      "cell_type": "code",
      "execution_count": null,
      "id": "99e754ca",
      "metadata": {
        "id": "99e754ca"
      },
      "outputs": [],
      "source": [
        "preg[\"totalwgt_lb\"] = preg[\"birthwgt_lb\"] + preg[\"birthwgt_oz\"] / 16.0\n",
        "preg[\"totalwgt_lb\"].mean()"
      ]
    },
    {
      "cell_type": "markdown",
      "id": "9328c705",
      "metadata": {
        "id": "9328c705"
      },
      "source": [
        "The average of the result seems plausible."
      ]
    },
    {
      "cell_type": "markdown",
      "id": "6b17ca75",
      "metadata": {
        "id": "6b17ca75"
      },
      "source": [
        "## Summary Statistics\n",
        "\n",
        "A **statistic** is a number derived from a dataset, usually intended to quantify some aspect of the data.\n",
        "Examples include the count, mean, variance, and standard deviation.\n",
        "\n",
        "A `Series` object has a `count` method that returns the number of values that are not `nan`."
      ]
    },
    {
      "cell_type": "code",
      "execution_count": null,
      "id": "a124ce54",
      "metadata": {
        "id": "a124ce54"
      },
      "outputs": [],
      "source": [
        "weights = preg[\"totalwgt_lb\"]\n",
        "n = weights.count()\n",
        "n"
      ]
    },
    {
      "cell_type": "markdown",
      "id": "b726a26b",
      "metadata": {
        "id": "b726a26b"
      },
      "source": [
        "It also provides a `sum` method that returns the sum of the values -- we can use it to compute the mean like this."
      ]
    },
    {
      "cell_type": "code",
      "execution_count": null,
      "id": "370eb75e",
      "metadata": {
        "id": "370eb75e"
      },
      "outputs": [],
      "source": [
        "mean = weights.sum() / n\n",
        "mean"
      ]
    },
    {
      "cell_type": "markdown",
      "id": "83159334",
      "metadata": {
        "id": "83159334"
      },
      "source": [
        "But as we've already seen, there's also a `mean` method that does the same thing."
      ]
    },
    {
      "cell_type": "code",
      "execution_count": null,
      "id": "aebf1089",
      "metadata": {
        "id": "aebf1089"
      },
      "outputs": [],
      "source": [
        "weights.mean()"
      ]
    },
    {
      "cell_type": "markdown",
      "id": "02b4e371",
      "metadata": {
        "id": "02b4e371"
      },
      "source": [
        "In this dataset, the average birth weight is about 7.3 pounds.\n",
        "\n",
        "Variance is a statistic that quantifies the spread of a set of values.\n",
        "It is the mean of the squared deviations, which are the distances of each point from the mean."
      ]
    },
    {
      "cell_type": "code",
      "execution_count": null,
      "id": "17efbc62",
      "metadata": {
        "id": "17efbc62"
      },
      "outputs": [],
      "source": [
        "squared_deviations = (weights - mean) ** 2"
      ]
    },
    {
      "cell_type": "markdown",
      "id": "325b143d",
      "metadata": {
        "id": "325b143d"
      },
      "source": [
        "We can compute the mean of the squared deviations like this."
      ]
    },
    {
      "cell_type": "code",
      "execution_count": null,
      "id": "10bc8188",
      "metadata": {
        "id": "10bc8188"
      },
      "outputs": [],
      "source": [
        "var = squared_deviations.sum() / n\n",
        "var"
      ]
    },
    {
      "cell_type": "markdown",
      "id": "199652a0",
      "metadata": {
        "id": "199652a0"
      },
      "source": [
        "As you might expect, `Series` provides a `var` method that does the same thing, not *exactly* the same thing."
      ]
    },
    {
      "cell_type": "code",
      "execution_count": null,
      "id": "09b56f75",
      "metadata": {
        "id": "09b56f75"
      },
      "outputs": [],
      "source": [
        "weights.var()"
      ]
    },
    {
      "cell_type": "markdown",
      "id": "b9fb9471",
      "metadata": {
        "id": "b9fb9471"
      },
      "source": [
        "The result is slightly different because when the `var` method computes the mean of the squared deviations, it divides by `n-1` rather than `n`.\n",
        "That's because there are two ways to compute the variance of a sample, depending on what you are trying to do.\n",
        "I'll explain the difference in Chapter XXX -- but in practice it usually doesn't matter.\n",
        "If you prefer the version with `n` in the denominator, you can get it by passing `ddof=0` as a keyword argument to the `var` method."
      ]
    },
    {
      "cell_type": "code",
      "execution_count": null,
      "id": "4758f78c",
      "metadata": {
        "id": "4758f78c"
      },
      "outputs": [],
      "source": [
        "weights.var(ddof=0)"
      ]
    },
    {
      "cell_type": "markdown",
      "id": "48a53ff2",
      "metadata": {
        "id": "48a53ff2"
      },
      "source": [
        "In this dataset, the variance of the birth weights is about 1.98, but that value is hard to interpret -- for one thing, it is in units of pounds squared.\n",
        "Variance is useful in some computations, but not a good way to describe a dataset.\n",
        "A better option is the **standard deviation**, which is the square root of variance.\n",
        "We can compute it like this."
      ]
    },
    {
      "cell_type": "code",
      "execution_count": null,
      "id": "26d51d61",
      "metadata": {
        "id": "26d51d61"
      },
      "outputs": [],
      "source": [
        "std = np.sqrt(var)\n",
        "std"
      ]
    },
    {
      "cell_type": "markdown",
      "id": "16171375",
      "metadata": {
        "id": "16171375"
      },
      "source": [
        "Or, we can use the `std` method."
      ]
    },
    {
      "cell_type": "code",
      "execution_count": null,
      "id": "70647ffd",
      "metadata": {
        "id": "70647ffd"
      },
      "outputs": [],
      "source": [
        "weights.std(ddof=0)"
      ]
    },
    {
      "cell_type": "markdown",
      "id": "c76c7a47",
      "metadata": {
        "id": "c76c7a47"
      },
      "source": [
        "In this dataset, the standard deviation of birth weights is about 1.4 pounds.\n",
        "Informally, values that are one or two standard deviations from the mean are common -- values farther from the mean are rare."
      ]
    },
    {
      "cell_type": "markdown",
      "id": "4234e27e",
      "metadata": {
        "id": "4234e27e"
      },
      "source": [
        "## Interpretation\n",
        "\n",
        "To work with data effectively, you have to think on two levels at the same time: the level of statistics and the level of context.\n",
        "As an example, let's select the rows in the pregnancy file with `caseid` 10229.\n",
        "The `query` method takes a string that can contain column names, comparison operators, and numbers, among other things."
      ]
    },
    {
      "cell_type": "code",
      "execution_count": null,
      "id": "34f9a644",
      "metadata": {
        "id": "34f9a644"
      },
      "outputs": [],
      "source": [
        "subset = preg.query(\"caseid == 10229\")\n",
        "subset.shape"
      ]
    },
    {
      "cell_type": "markdown",
      "id": "c63cae88",
      "metadata": {
        "id": "c63cae88"
      },
      "source": [
        "The result is a `DataFrame` that contains only the rows where the query is `True`.\n",
        "This respondent reported seven pregnancies -- here are their outcomes, which are recorded in chronological order."
      ]
    },
    {
      "cell_type": "code",
      "execution_count": null,
      "id": "e4d4907d",
      "metadata": {
        "id": "e4d4907d"
      },
      "outputs": [],
      "source": [
        "subset[\"outcome\"].values"
      ]
    },
    {
      "cell_type": "markdown",
      "id": "0c5ef31b",
      "metadata": {
        "id": "0c5ef31b"
      },
      "source": [
        "The outcome code `1` indicates a live birth.\n",
        "Code `4` indicates a miscarriage -- that is, a pregnancy loss, usually with no known medical cause.\n",
        "\n",
        "Statistically this respondent is not unusual.\n",
        "Pregnancy loss is common and there are other respondents who reported as many instances.\n",
        "But remembering the context, this data tells the story of a woman who was pregnant six times, each time ending in miscarriage.\n",
        "Her seventh and most recent pregnancy ended in a live birth.\n",
        "If we consider this data with empathy, it is natural to be moved by the story it tells.\n",
        "\n",
        "Each record in the NSFG dataset represents a person who provided honest answers to many personal and difficult questions.\n",
        "We can use this data to answer statistical questions about family life, reproduction, and health.\n",
        "At the same time, we have an obligation to consider the people represented by the data, and to afford them respect and gratitude."
      ]
    },
    {
      "cell_type": "markdown",
      "id": "74c62acf",
      "metadata": {
        "id": "74c62acf"
      },
      "source": [
        "## Glossary\n",
        "\n",
        "The end of each chapter provides a glossary of words that are defined in the chapter.\n",
        "\n",
        "- **anecdotal evidence:** Data collected informally from a small number of individual cases, often without systematic sampling.\n",
        "\n",
        "- **cross-sectional study:** A study that collects data from a representative sample of a population at a single point or interval in time.\n",
        "\n",
        "- **longitudinal study:** A study that collects data from the same group of respondents at more than one interval in time.\n",
        "\n",
        "- **cycle:** One data-collection interval in a study that collects data at multiple intervals in time.\n",
        "\n",
        "- **population:** The entire group of individuals or items that is the subject of a study.\n",
        "\n",
        "- **sample:** A subset of a population, often chosen at random.\n",
        "\n",
        "- **respondents:** People who participate in a survey and respond to questions.\n",
        "\n",
        "- **representative:** A sample is representative if it accurately reflects the characteristics of the population.\n",
        "\n",
        "- **oversampled:** A subset of the population is oversampled if its members have a higher chance of appearing in a sample.\n",
        "\n",
        "- **codebook:** A document that describes the variables in a dataset, and provides other information about the data.\n",
        "\n",
        "- **recode:** A variable that is computed based on other variables in a dataset.\n",
        "\n",
        "- **raw data:** Data that has not been processed after collection.\n",
        "\n",
        "- **data cleaning:** A process for identifying and correcting errors in a dataset, dealing with missing values, and computing recodes.\n",
        "\n",
        "- **statistic:** A value that describes or summarizes a property of a sample.\n",
        "\n",
        "- **standard deviation:** A statistic that quantifies the spread of data around the mean."
      ]
    },
    {
      "cell_type": "markdown",
      "id": "3b3f8c2a",
      "metadata": {
        "collapsed": true,
        "id": "3b3f8c2a"
      },
      "source": [
        "## Exercises\n",
        "\n",
        "The exercises are based on the NSFG pregnancy file."
      ]
    },
    {
      "cell_type": "markdown",
      "id": "90fd57dd",
      "metadata": {
        "id": "90fd57dd"
      },
      "source": [
        "### Exercise\n",
        "\n",
        "Select the `birthord` column from `preg`, print the value counts, and compare to results published in the  codebook at <https://ftp.cdc.gov/pub/Health_Statistics/NCHS/Dataset_Documentation/NSFG/Cycle6Codebook-Pregnancy.pdf>."
      ]
    },
    {
      "cell_type": "code",
      "execution_count": null,
      "id": "09e79aba",
      "metadata": {
        "id": "09e79aba"
      },
      "outputs": [],
      "source": [
        "# Solution goes here"
      ]
    },
    {
      "cell_type": "markdown",
      "id": "4a6aabaa",
      "metadata": {
        "id": "4a6aabaa"
      },
      "source": [
        "### Exercise\n",
        "\n",
        "Create a new column named `totalwgt_kg` that contains birth weight in kilograms (there are approximately 2.2 pounds per kilogram).\n",
        "Compute the mean and standard deviation of the new column."
      ]
    },
    {
      "cell_type": "code",
      "execution_count": null,
      "id": "009d0f95",
      "metadata": {
        "id": "009d0f95"
      },
      "outputs": [],
      "source": [
        "# Solution goes here"
      ]
    },
    {
      "cell_type": "markdown",
      "id": "ee9bc52d",
      "metadata": {
        "id": "ee9bc52d"
      },
      "source": [
        "### Exercise\n",
        "\n",
        "What are the pregnancy lengths for the respondent with `caseid` 2298?"
      ]
    },
    {
      "cell_type": "code",
      "execution_count": null,
      "id": "69de50aa",
      "metadata": {
        "id": "69de50aa"
      },
      "outputs": [],
      "source": [
        "# Solution goes here"
      ]
    },
    {
      "cell_type": "markdown",
      "id": "a205c407",
      "metadata": {
        "id": "a205c407"
      },
      "source": [
        "What was the birth weight of the first baby born to the respondent with `caseid` 5013?\n",
        "Hint: You can use `and` to check more than one condition in a query."
      ]
    },
    {
      "cell_type": "code",
      "execution_count": null,
      "id": "5ae4cc07",
      "metadata": {
        "id": "5ae4cc07"
      },
      "outputs": [],
      "source": [
        "# Solution goes here"
      ]
    },
    {
      "cell_type": "code",
      "execution_count": null,
      "id": "53f511d0",
      "metadata": {
        "id": "53f511d0"
      },
      "outputs": [],
      "source": [
        "# Solution goes here"
      ]
    },
    {
      "cell_type": "markdown",
      "id": "e27da3a4",
      "metadata": {
        "tags": [],
        "id": "e27da3a4"
      },
      "source": [
        "[Think Stats: Exploratory Data Analysis in Python, 3rd Edition](https://allendowney.github.io/ThinkStats/index.html)\n",
        "\n",
        "Copyright 2024 [Allen B. Downey](https://allendowney.com)\n",
        "\n",
        "Code license: [MIT License](https://mit-license.org/)\n",
        "\n",
        "Text license: [Creative Commons Attribution-NonCommercial-ShareAlike 4.0 International](https://creativecommons.org/licenses/by-nc-sa/4.0/)"
      ]
    }
  ],
  "metadata": {
    "celltoolbar": "Tags",
    "kernelspec": {
      "display_name": "Python 3 (ipykernel)",
      "language": "python",
      "name": "python3"
    },
    "language_info": {
      "codemirror_mode": {
        "name": "ipython",
        "version": 3
      },
      "file_extension": ".py",
      "mimetype": "text/x-python",
      "name": "python",
      "nbconvert_exporter": "python",
      "pygments_lexer": "ipython3",
      "version": "3.10.14"
    },
    "colab": {
      "provenance": [],
      "include_colab_link": true
    }
  },
  "nbformat": 4,
  "nbformat_minor": 5
}